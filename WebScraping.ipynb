{
  "nbformat": 4,
  "nbformat_minor": 0,
  "metadata": {
    "colab": {
      "provenance": []
    },
    "kernelspec": {
      "name": "python3",
      "display_name": "Python 3"
    },
    "language_info": {
      "name": "python"
    }
  },
  "cells": [
    {
      "cell_type": "code",
      "source": [
        "import pandas as pd\n",
        "import requests\n",
        "from bs4 import BeautifulSoup\n",
        "\n",
        "#getting response from websites by sending requests\n",
        "response=requests.get(\"https://www.imdb.com/chart/toptv/?ref_=nv_tvv_250\")\n",
        "\n",
        "#BeautifulSoup is a tool to get content from websites\n",
        "soup=BeautifulSoup(response.content,'html.parser')\n",
        "\n",
        "#code, that what we need from websites\n",
        "title=soup.find_all('td', class_=\"titleColumn\")\n",
        "titles=[]\n",
        "for i in title[0:31]:\n",
        "  e=i.get_text()\n",
        "  titles.append(e)\n",
        "# print(titles)\n",
        "\n",
        "rating=soup.find_all('td', class_=\"ratingColumn imdbRating\")\n",
        "ratings=[]\n",
        "for i in rating[0:31]:\n",
        "  f=i.get_text()\n",
        "  ratings.append(f)\n",
        "# # print(ratings)\n",
        "\n",
        "poster=soup.find_all('img', class_=\"\")\n",
        "posters=[]\n",
        "for i in poster[0:31]:\n",
        "  g=i['src']\n",
        "  posters.append(g)\n",
        "\n",
        "#after filtering or scraping data we need to store it in a organised way, for that we can use Pandas DataFrame\n",
        "df=pd.DataFrame()\n",
        "df['Titles']=titles\n",
        "df['Ratings']=ratings\n",
        "df['Posters']=posters\n",
        "df.to_csv('Top30PopularShows.csv')\n",
        "\n"
      ],
      "metadata": {
        "id": "7wZx4N0EWRM-"
      },
      "execution_count": 1,
      "outputs": []
    }
  ]
}